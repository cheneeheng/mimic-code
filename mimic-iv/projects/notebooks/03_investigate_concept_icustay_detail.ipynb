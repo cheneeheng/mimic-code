{
 "cells": [
  {
   "cell_type": "markdown",
   "metadata": {},
   "source": [
    "# Investigate the concepts available in the database (mimic-iv)\n",
    "\n",
    "The concepts are available from the mimic-code github repo."
   ]
  },
  {
   "cell_type": "code",
   "execution_count": 1,
   "metadata": {},
   "outputs": [],
   "source": [
    "import getpass\n",
    "import json\n",
    "import math\n",
    "import os\n",
    "import psycopg2\n",
    "import pandas as pd\n",
    "import time\n",
    "\n",
    "import matplotlib.pyplot as plt\n",
    "%matplotlib inline\n",
    "\n",
    "import numpy as np\n",
    "\n",
    "from configobj import ConfigObj\n",
    "from multiprocessing import Pool, RLock\n",
    "from tqdm import tqdm\n",
    "from typing import Tuple\n",
    "\n",
    "from projects.utils import *\n",
    "from projects.common import *\n"
   ]
  },
  {
   "cell_type": "code",
   "execution_count": 2,
   "metadata": {},
   "outputs": [],
   "source": [
    "def save_dsv(path: str, data: pd.DataFrame):\n",
    "    save_dir, _ = os.path.split(path)\n",
    "    os.makedirs(save_dir, exist_ok=True)\n",
    "    data.to_csv(path, na_rep='', sep='$', index=False)\n",
    "\n",
    "\n",
    "def create_patient_info(dtype=int):\n",
    "    return {\n",
    "        'UID': np.array([], dtype=int),\n",
    "        'Value': np.array([], dtype=dtype),\n",
    "    }\n",
    "\n",
    "\n",
    "def sort_patient_table(x: dict):\n",
    "    sorted_ids = np.argsort(x['UID'])\n",
    "    for k in x.keys():\n",
    "        x[k] = x[k][sorted_ids]\n"
   ]
  },
  {
   "cell_type": "code",
   "execution_count": 3,
   "metadata": {},
   "outputs": [
    {
     "name": "stdout",
     "output_type": "stream",
     "text": [
      "Database: mimiciv\n",
      "Username: mimiciv\n",
      ">>>>> Connected to DB <<<<<\n"
     ]
    }
   ],
   "source": [
    "db_dir = os.path.abspath('') + \"/../../../db\"\n",
    "\n",
    "(query_schema_core,\n",
    " query_schema_hosp,\n",
    " query_schema_icu,\n",
    " query_schema_derived,\n",
    " conn) = connect_to_database(db_dir)\n"
   ]
  },
  {
   "cell_type": "markdown",
   "metadata": {},
   "source": [
    "Table for icustays:  \n",
    "['subject_id', 'hadm_id', 'stay_id', 'first_careunit', 'last_careunit', 'intime', 'outtime', 'los'] \n",
    "\n",
    "Table for transfers:  \n",
    "['subject_id', 'hadm_id', 'transfer_id', 'eventtype', 'careunit', 'intime', 'outtime'] \n",
    "\n",
    "Table for patients:  \n",
    "['subject_id', 'gender', 'anchor_age', 'anchor_year', 'anchor_year_group', 'dod']\n",
    "\n",
    "Table for admissions:  \n",
    "['subject_id', 'hadm_id', 'admittime', 'dischtime', 'deathtime', 'admission_type', 'admission_location', 'discharge_location', 'insurance', 'language', 'marital_status', 'ethnicity', 'edregtime', 'edouttime', 'hospital_expire_flag']"
   ]
  },
  {
   "cell_type": "code",
   "execution_count": 5,
   "metadata": {},
   "outputs": [
    {
     "name": "stdout",
     "output_type": "stream",
     "text": [
      "Getting patients data\n",
      "Number of entries for patients : 382278\n",
      "Column names : ['subject_id', 'gender', 'anchor_age', 'anchor_year', 'anchor_year_group', 'dod']\n",
      "Getting admissions data\n",
      "Number of entries for admissions : 523740\n",
      "Column names : ['subject_id', 'hadm_id', 'admittime', 'dischtime', 'deathtime', 'admission_type', 'admission_location', 'discharge_location', 'insurance', 'language', 'marital_status', 'ethnicity', 'edregtime', 'edouttime', 'hospital_expire_flag']\n",
      "Getting transfers data\n",
      "Number of entries for transfers : 2189535\n",
      "Column names : ['subject_id', 'hadm_id', 'transfer_id', 'eventtype', 'careunit', 'intime', 'outtime']\n",
      "Getting icustays data\n",
      "Number of entries for icustays : 76540\n",
      "Column names : ['subject_id', 'hadm_id', 'stay_id', 'first_careunit', 'last_careunit', 'intime', 'outtime', 'los']\n"
     ]
    }
   ],
   "source": [
    "patients_df = get_database_table_as_dataframe(conn, query_schema_core, 'patients')\n",
    "admissions_df = get_database_table_as_dataframe(conn, query_schema_core, 'admissions')\n",
    "transfers_df = get_database_table_as_dataframe(conn, query_schema_core, 'transfers').sort_values(by=['intime', 'outtime'])\n",
    "icustays_df = get_database_table_as_dataframe(conn, query_schema_icu, 'icustays').sort_values(by=['intime', 'outtime'])\n",
    "\n",
    "assert len(patients_df.to_numpy()[:, 0]) == len(np.unique(patients_df.to_numpy()[:, 0])) \n",
    "assert len(admissions_df.to_numpy()[:, 1]) == len(np.unique(admissions_df.to_numpy()[:, 1])) \n",
    "assert len(icustays_df.to_numpy()[:, 2]) == len(np.unique(icustays_df.to_numpy()[:, 2])) \n",
    "\n",
    "patients_list = patients_df['subject_id'].tolist()\n",
    "admissions_list = admissions_df['hadm_id'].tolist()"
   ]
  },
  {
   "cell_type": "code",
   "execution_count": 6,
   "metadata": {},
   "outputs": [],
   "source": [
    "_CAREUNITS = ['Coronary Care Unit (CCU)',\n",
    "              'Cardiac Vascular Intensive Care Unit (CVICU)']\n",
    "custom_icustays_list = [i[1]['stay_id']\n",
    "                        for i in icustays_df.iterrows()\n",
    "                        if i[1]['first_careunit'] in _CAREUNITS or i[1]['last_careunit'] in _CAREUNITS]\n"
   ]
  },
  {
   "cell_type": "markdown",
   "metadata": {},
   "source": [
    "# Concept 1 : icustay_detail\n"
   ]
  },
  {
   "cell_type": "code",
   "execution_count": 7,
   "metadata": {},
   "outputs": [
    {
     "name": "stdout",
     "output_type": "stream",
     "text": [
      "Getting icustay_detail data\n",
      "Number of entries for icustay_detail : 76540\n",
      "Column names : ['subject_id', 'hadm_id', 'stay_id', 'gender', 'dod', 'admittime', 'dischtime', 'los_hospital', 'admission_age', 'ethnicity', 'hospital_expire_flag', 'hospstay_seq', 'first_hosp_stay', 'icu_intime', 'icu_outtime', 'los_icu', 'icustay_seq', 'first_icu_stay']\n"
     ]
    }
   ],
   "source": [
    "_table = 'icustay_detail'\n",
    "\n",
    "df = get_database_table_as_dataframe(conn, query_schema_derived, _table)\n"
   ]
  },
  {
   "cell_type": "code",
   "execution_count": 12,
   "metadata": {},
   "outputs": [
    {
     "name": "stderr",
     "output_type": "stream",
     "text": [
      "100%|██████████| 76540/76540 [01:34<00:00, 811.80it/s]\n"
     ]
    }
   ],
   "source": [
    "# uid_info = {idx: name\n",
    "#             for idx, name in enumerate(df.columns.to_list() +\n",
    "#                                        ['first_careunit', 'last_careunit'])}\n",
    "# uid_info_path = os.path.abspath('') + \"/../../../\" + UID_INFO_PATH\n",
    "# os.remove(uid_info_path)\n",
    "# with open(uid_info_path, 'w+') as f:\n",
    "#     json.dump(uid_info, f)\n",
    "\n",
    "# for df_i in tqdm(df.iterrows(), total=len(df)):\n",
    "#     df_row = df_i[1]\n",
    "\n",
    "#     if df_row['stay_id'] in custom_icustays_list:\n",
    "\n",
    "#         info_dict = create_patient_info()\n",
    "\n",
    "#         c = 0\n",
    "#         for i, j in zip(uid_info, df_row):\n",
    "#             info_dict['UID'] = np.append(info_dict['UID'], i)\n",
    "#             info_dict['Value'] = np.append(info_dict['Value'], j)\n",
    "#             c = i\n",
    "\n",
    "#         c += 1\n",
    "#         info_dict['UID'] = np.append(info_dict['UID'], c)\n",
    "#         j = icustays_df.loc[icustays_df['stay_id'] ==\n",
    "#                             df_row['stay_id']]['first_careunit'].item()\n",
    "#         info_dict['Value'] = np.append(info_dict['Value'], j)\n",
    "\n",
    "#         c += 1\n",
    "#         info_dict['UID'] = np.append(info_dict['UID'], c)\n",
    "#         j = icustays_df.loc[icustays_df['stay_id'] ==\n",
    "#                             df_row['stay_id']]['last_careunit'].item()\n",
    "#         info_dict['Value'] = np.append(info_dict['Value'], j)\n",
    "\n",
    "#         save_path = os.path.join(STRUCTURED_EXPORT_DIR,\n",
    "#                                  'info_'+str(df_i[1]['stay_id'])+'.dsv')\n",
    "#         save_dsv(save_path, pd.DataFrame(info_dict))\n"
   ]
  }
 ],
 "metadata": {
  "interpreter": {
   "hash": "949777d72b0d2535278d3dc13498b2535136f6dfe0678499012e853ee9abcab1"
  },
  "kernelspec": {
   "display_name": "Python 3.8.10 64-bit",
   "name": "python3"
  },
  "language_info": {
   "codemirror_mode": {
    "name": "ipython",
    "version": 3
   },
   "file_extension": ".py",
   "mimetype": "text/x-python",
   "name": "python",
   "nbconvert_exporter": "python",
   "pygments_lexer": "ipython3",
   "version": "3.8.10"
  },
  "orig_nbformat": 4
 },
 "nbformat": 4,
 "nbformat_minor": 2
}

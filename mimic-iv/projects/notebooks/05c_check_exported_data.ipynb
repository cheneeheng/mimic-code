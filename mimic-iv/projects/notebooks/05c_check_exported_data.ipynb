{
 "cells": [
  {
   "cell_type": "markdown",
   "metadata": {},
   "source": [
    "# Checks the exported data."
   ]
  },
  {
   "cell_type": "code",
   "execution_count": 27,
   "metadata": {},
   "outputs": [],
   "source": [
    "from projects.common import *\n",
    "from projects.utils import *\n",
    "from typing import Tuple\n",
    "from tqdm import tqdm\n",
    "# from tqdm.notebook import tqdm\n",
    "from multiprocessing import Pool, RLock\n",
    "from configobj import ConfigObj\n",
    "import numpy as np\n",
    "import getpass\n",
    "import json\n",
    "import math\n",
    "import os\n",
    "import psycopg2\n",
    "import pandas as pd\n",
    "import time\n",
    "\n",
    "import matplotlib.pyplot as plt\n",
    "%matplotlib inline\n"
   ]
  },
  {
   "cell_type": "code",
   "execution_count": 25,
   "metadata": {},
   "outputs": [
    {
     "name": "stderr",
     "output_type": "stream",
     "text": [
      " 49%|████▉     | 2640/5387 [00:26<00:30, 88.67it/s]/tmp/ipykernel_3434/1934198347.py:8: DtypeWarning: Columns (4) have mixed types.Specify dtype option on import or set low_memory=False.\n",
      "  uids += load_dsv(f)['uid'].tolist()\n",
      "100%|██████████| 5387/5387 [00:55<00:00, 97.40it/s]\n",
      "100%|██████████| 5383/5383 [00:55<00:00, 96.85it/s]\n",
      "100%|██████████| 5387/5387 [00:55<00:00, 96.57it/s]\n",
      "100%|██████████| 5387/5387 [00:56<00:00, 95.66it/s]\n",
      "100%|██████████| 5387/5387 [00:56<00:00, 94.76it/s]\n",
      "100%|██████████| 5387/5387 [00:56<00:00, 94.72it/s]\n",
      "100%|██████████| 5387/5387 [00:57<00:00, 93.29it/s] \n",
      "100%|██████████| 5387/5387 [00:57<00:00, 93.25it/s] \n"
     ]
    }
   ],
   "source": [
    "exported_files = [os.path.join(STRUCTURED_EXPORT_DIR, i)\n",
    "                  for i in os.listdir(STRUCTURED_EXPORT_DIR)]\n",
    "\n",
    "\n",
    "def func(files, pid):\n",
    "    uids = []\n",
    "    for f in tqdm(files):\n",
    "        uids += load_dsv(f)['uid'].tolist()\n",
    "    return uids\n",
    "\n",
    "\n",
    "uid_list = parallel_processing(func, MP_NUM_PROCESSES, exported_files)\n"
   ]
  },
  {
   "cell_type": "code",
   "execution_count": 38,
   "metadata": {},
   "outputs": [],
   "source": [
    "uid_values = [uid for uids in uid_list for uid in uids]\n",
    "uid, count = np.unique(uid_values, return_counts=True)\n",
    "df = pd.DataFrame({'uid': uid, 'occurence': count}).sort_values(by=['uid'])\n",
    "\n",
    "V1_DATA_ITEM_PATH = \"mimic-iv/projects/resources/d_v1.tsv\"\n",
    "df.to_csv('../../../'+V1_DATA_ITEM_PATH, na_rep='', sep='\\t', index=False)\n"
   ]
  },
  {
   "cell_type": "code",
   "execution_count": 37,
   "metadata": {},
   "outputs": [],
   "source": [
    "with open('../../../'+UID_INFO_PATH, 'r') as f:\n",
    "    jd = json.load(f)\n",
    "\n",
    "df = pd.DataFrame({'uid': list(jd.keys()), 'label': list(jd.values())})\n",
    "\n",
    "V1_INFO_ITEM_PATH = \"mimic-iv/projects/resources/i_v1.tsv\"\n",
    "df.to_csv('../../../'+V1_INFO_ITEM_PATH, na_rep='', sep='\\t', index=False)\n"
   ]
  }
 ],
 "metadata": {
  "interpreter": {
   "hash": "949777d72b0d2535278d3dc13498b2535136f6dfe0678499012e853ee9abcab1"
  },
  "kernelspec": {
   "display_name": "Python 3.8.10 64-bit",
   "name": "python3"
  },
  "language_info": {
   "codemirror_mode": {
    "name": "ipython",
    "version": 3
   },
   "file_extension": ".py",
   "mimetype": "text/x-python",
   "name": "python",
   "nbconvert_exporter": "python",
   "pygments_lexer": "ipython3",
   "version": "3.8.10"
  },
  "orig_nbformat": 4
 },
 "nbformat": 4,
 "nbformat_minor": 2
}

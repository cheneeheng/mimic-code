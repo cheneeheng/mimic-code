{
 "cells": [
  {
   "cell_type": "markdown",
   "metadata": {},
   "source": [
    "# Exports raw data from mimic-iv database\n",
    "\n",
    "Only the following care unit patients are exported:\n",
    "- Coronary Care unit (CCU)\n",
    "- Cardiac Vascular Intensive Care unit (CVICU)"
   ]
  },
  {
   "cell_type": "code",
   "execution_count": 1,
   "metadata": {},
   "outputs": [],
   "source": [
    "from typing import Tuple\n",
    "# from tqdm import tqdm\n",
    "from tqdm.notebook import tqdm\n",
    "from multiprocessing import Pool, RLock\n",
    "from configobj import ConfigObj\n",
    "import numpy as np\n",
    "import getpass\n",
    "import json\n",
    "import math\n",
    "import os\n",
    "import psycopg2\n",
    "import pandas as pd\n",
    "import time\n",
    "\n",
    "import matplotlib.pyplot as plt\n",
    "%matplotlib inline\n",
    "\n",
    "from projects.common import *\n",
    "from projects.utils import *\n"
   ]
  },
  {
   "cell_type": "code",
   "execution_count": 2,
   "metadata": {},
   "outputs": [],
   "source": [
    "def connect_db():\n",
    "    db_dir = os.path.abspath('') + \"/../../../db\"\n",
    "    return connect_to_database(db_dir)\n",
    "    # (query_schema_core,\n",
    "    # query_schema_hosp,\n",
    "    # query_schema_icu,\n",
    "    # query_schema_derived,\n",
    "    # conn) = connect_to_database(db_dir)\n",
    "\n",
    "\n",
    "def split_df(df: pd.DataFrame, num_processes: int = 8):\n",
    "    interval = math.ceil(len(df)/num_processes)\n",
    "    dfs = [df.iloc[interval*i:interval*(i+1)]\n",
    "           for i in range((num_processes-1))]\n",
    "    dfs += [df.iloc[interval*(num_processes-1):]]\n",
    "    return dfs\n"
   ]
  },
  {
   "cell_type": "markdown",
   "metadata": {},
   "source": [
    "# Sanity check\n",
    "\n",
    "Table for icustays:  \n",
    "['subject_id', 'hadm_id', 'stay_id', 'first_careunit', 'last_careunit', 'intime', 'outtime', 'los'] \n",
    "\n",
    "Table for transfers:  \n",
    "['subject_id', 'hadm_id', 'transfer_id', 'eventtype', 'careunit', 'intime', 'outtime'] \n",
    "\n",
    "Table for patients:  \n",
    "['subject_id', 'gender', 'anchor_age', 'anchor_year', 'anchor_year_group', 'dod']\n",
    "\n",
    "Table for admissions:  \n",
    "['subject_id', 'hadm_id', 'admittime', 'dischtime', 'deathtime', 'admission_type', 'admission_location', 'discharge_location', 'insurance', 'language', 'marital_status', 'ethnicity', 'edregtime', 'edouttime', 'hospital_expire_flag']"
   ]
  },
  {
   "cell_type": "markdown",
   "metadata": {},
   "source": [
    "# Select valid entries\n",
    "\n",
    "Only entries from certain care units are included."
   ]
  },
  {
   "cell_type": "code",
   "execution_count": 6,
   "metadata": {},
   "outputs": [
    {
     "name": "stdout",
     "output_type": "stream",
     "text": [
      "Database: mimiciv\n",
      "Username: mimiciv\n",
      ">>>>> Connected to DB <<<<<\n",
      "Getting patients data\n",
      "Number of entries for patients : 382278\n",
      "Column names : ['subject_id', 'gender', 'anchor_age', 'anchor_year', 'anchor_year_group', 'dod']\n",
      "\n",
      "Getting admissions data\n",
      "Number of entries for admissions : 523740\n",
      "Column names : ['subject_id', 'hadm_id', 'admittime', 'dischtime', 'deathtime', 'admission_type', 'admission_location', 'discharge_location', 'insurance', 'language', 'marital_status', 'ethnicity', 'edregtime', 'edouttime', 'hospital_expire_flag']\n",
      "\n",
      "Getting transfers data\n",
      "Number of entries for transfers : 2189535\n",
      "Column names : ['subject_id', 'hadm_id', 'transfer_id', 'eventtype', 'careunit', 'intime', 'outtime']\n",
      "\n",
      "Getting icustays data\n",
      "Number of entries for icustays : 76540\n",
      "Column names : ['subject_id', 'hadm_id', 'stay_id', 'first_careunit', 'last_careunit', 'intime', 'outtime', 'los']\n",
      "\n",
      "\n",
      "Assertions are fine.\n",
      "\n",
      "Getting icustays data\n",
      "Number of entries for icustays : 20915\n",
      "Getting icustays data\n",
      "Number of entries for icustays : 20780\n",
      "Number of custom icustays : 21546\n"
     ]
    }
   ],
   "source": [
    "(query_schema_core,\n",
    " query_schema_hosp,\n",
    " query_schema_icu,\n",
    " query_schema_derived,\n",
    " conn) = connect_db()\n",
    "\n",
    "patients_df = get_database_table_as_dataframe(\n",
    "    conn, query_schema_core, 'patients')\n",
    "admissions_df = get_database_table_as_dataframe(\n",
    "    conn, query_schema_core, 'admissions')\n",
    "transfers_df = get_database_table_as_dataframe(\n",
    "    conn, query_schema_core, 'transfers').sort_values(by=['intime', 'outtime'])\n",
    "icustays_df = get_database_table_as_dataframe(\n",
    "    conn, query_schema_icu, 'icustays').sort_values(by=['intime', 'outtime'])\n",
    "\n",
    "assert len(patients_df.to_numpy()[:, 0]) == len(\n",
    "    np.unique(patients_df.to_numpy()[:, 0]))\n",
    "assert len(admissions_df.to_numpy()[:, 1]) == len(\n",
    "    np.unique(admissions_df.to_numpy()[:, 1]))\n",
    "assert len(icustays_df.to_numpy()[:, 2]) == len(\n",
    "    np.unique(icustays_df.to_numpy()[:, 2]))\n",
    "print(\"\\nAssertions are fine.\\n\")\n",
    "\n",
    "_CAREUNITS = ['Coronary Care Unit (CCU)',\n",
    "              'Cardiac Vascular Intensive Care Unit (CVICU)']\n",
    "\n",
    "cu1 = get_id_list(conn, query_schema_icu, 'icustays',\n",
    "                  'stay_id', 'first_careunit', tuple(_CAREUNITS))\n",
    "cu2 = get_id_list(conn, query_schema_icu, 'icustays',\n",
    "                  'stay_id', 'last_careunit', tuple(_CAREUNITS))\n",
    "custom_icustays_list = list(set(cu1 + cu2))\n",
    "\n",
    "print(\"Number of custom icustays :\", len(custom_icustays_list))\n",
    "\n",
    "custom_icustays_dict = dict()\n",
    "for i in icustays_df.iterrows():\n",
    "    j = i[1]\n",
    "    if j['first_careunit'] in _CAREUNITS or j['last_careunit'] in _CAREUNITS:\n",
    "        if j['subject_id'] in custom_icustays_dict:\n",
    "            if j['hadm_id'] in custom_icustays_dict[j['subject_id']]:\n",
    "                custom_icustays_dict[j['subject_id']][j['hadm_id']] += [j['stay_id']]  # noqa\n",
    "            else:\n",
    "                custom_icustays_dict[j['subject_id']][j['hadm_id']] = [j['stay_id']]  # noqa\n",
    "        else:\n",
    "            custom_icustays_dict[j['subject_id']] = {j['hadm_id']: [j['stay_id']]}  # noqa\n",
    "\n",
    "\n",
    "with open(\"../../../\" + TMP_CUSTOM_LIST, 'w+') as f:\n",
    "    json.dump(custom_icustays_list, f)\n",
    "\n",
    "with open(\"../../../\" + TMP_CUSTOM_DICT, 'w+') as f:\n",
    "    json.dump(custom_icustays_dict, f)\n"
   ]
  },
  {
   "cell_type": "markdown",
   "metadata": {},
   "source": [
    "# Export patient info\n",
    "\n",
    "create a uid dict for mapping the UID.\n"
   ]
  },
  {
   "cell_type": "code",
   "execution_count": 3,
   "metadata": {},
   "outputs": [
    {
     "name": "stdout",
     "output_type": "stream",
     "text": [
      "Database: mimiciv\n",
      "Username: mimiciv\n",
      ">>>>> Connected to DB <<<<<\n",
      "Getting icustay_detail data\n",
      "Number of entries for icustay_detail : 76540\n",
      "Column names : ['subject_id', 'hadm_id', 'stay_id', 'gender', 'dod', 'admittime', 'dischtime', 'los_hospital', 'admission_age', 'ethnicity', 'hospital_expire_flag', 'hospstay_seq', 'first_hosp_stay', 'icu_intime', 'icu_outtime', 'los_icu', 'icustay_seq', 'first_icu_stay']\n",
      "\n",
      "Getting icustays data\n",
      "Number of entries for icustays : 76540\n",
      "Column names : ['subject_id', 'hadm_id', 'stay_id', 'first_careunit', 'last_careunit', 'intime', 'outtime', 'los']\n",
      "\n",
      "Getting charlson data\n",
      "Number of entries for charlson : 523740\n",
      "Column names : ['subject_id', 'hadm_id', 'age_score', 'myocardial_infarct', 'congestive_heart_failure', 'peripheral_vascular_disease', 'cerebrovascular_disease', 'dementia', 'chronic_pulmonary_disease', 'rheumatic_disease', 'peptic_ulcer_disease', 'mild_liver_disease', 'diabetes_without_cc', 'diabetes_with_cc', 'paraplegia', 'renal_disease', 'malignant_cancer', 'severe_liver_disease', 'metastatic_solid_tumor', 'aids', 'charlson_comorbidity_index']\n",
      "\n",
      "Getting diagnoses_icd data\n",
      "Number of entries for diagnoses_icd : 5280351\n",
      "Column names : ['subject_id', 'hadm_id', 'seq_num', 'icd_code', 'icd_version']\n",
      "\n",
      "Getting creatinine_baseline data\n",
      "Number of entries for creatinine_baseline : 462112\n",
      "Column names : ['hadm_id', 'gender', 'age', 'scr_min', 'ckd', 'mdrd_est', 'scr_baseline']\n",
      "\n",
      "Entries that are saved as patient info: ['subject_id', 'hadm_id', 'stay_id', 'gender', 'dod', 'admittime', 'dischtime', 'los_hospital', 'admission_age', 'ethnicity', 'hospital_expire_flag', 'hospstay_seq', 'first_hosp_stay', 'icu_intime', 'icu_outtime', 'los_icu', 'icustay_seq', 'first_icu_stay', 'first_careunit', 'last_careunit', 'age_score', 'myocardial_infarct', 'congestive_heart_failure', 'peripheral_vascular_disease', 'cerebrovascular_disease', 'dementia', 'chronic_pulmonary_disease', 'rheumatic_disease', 'peptic_ulcer_disease', 'mild_liver_disease', 'diabetes_without_cc', 'diabetes_with_cc', 'paraplegia', 'renal_disease', 'malignant_cancer', 'severe_liver_disease', 'metastatic_solid_tumor', 'aids', 'charlson_comorbidity_index', 'icd', 'scr_min', 'ckd', 'mdrd_est', 'scr_baseline']\n"
     ]
    }
   ],
   "source": [
    "(query_schema_core,\n",
    " query_schema_hosp,\n",
    " query_schema_icu,\n",
    " query_schema_derived,\n",
    " conn) = connect_db()\n",
    "\n",
    "df, _ = get_database_table_as_dataframe(\n",
    "    conn, query_schema_derived, 'icustay_detail')\n",
    "icustays_df, _ = get_database_table_as_dataframe(\n",
    "    conn, query_schema_icu, 'icustays')\n",
    "charlson_df, _ = get_database_table_as_dataframe(\n",
    "    conn, query_schema_derived, 'charlson')\n",
    "diag_icd_df, _ = get_database_table_as_dataframe(\n",
    "    conn, query_schema_hosp, 'diagnoses_icd')\n",
    "cr_base_df, _ = get_database_table_as_dataframe(\n",
    "    conn, query_schema_derived, 'creatinine_baseline')\n",
    "\n",
    "data_entry_list = \\\n",
    "    get_database_table_column_name(conn, 'icustay_detail') + \\\n",
    "    ['first_careunit', 'last_careunit'] + \\\n",
    "    get_database_table_column_name(conn, 'charlson')[2:] + \\\n",
    "    ['icd'] + \\\n",
    "    get_database_table_column_name(conn, 'creatinine_baseline')[3:]\n",
    "\n",
    "print(\"Entries that are saved as patient info:\", data_entry_list)\n",
    "\n",
    "uid_info = {idx: name for idx, name in enumerate(data_entry_list)}\n",
    "uid_info_path = os.path.abspath('') + \"/../../../\" + UID_INFO_PATH\n",
    "if os.path.exists(uid_info_path):\n",
    "    os.remove(uid_info_path)\n",
    "with open(uid_info_path, 'w+') as f:\n",
    "    json.dump(uid_info, f)\n"
   ]
  },
  {
   "cell_type": "markdown",
   "metadata": {},
   "source": [
    "saves the data into a .dsv file."
   ]
  },
  {
   "cell_type": "code",
   "execution_count": 4,
   "metadata": {},
   "outputs": [
    {
     "name": "stdout",
     "output_type": "stream",
     "text": [
      "     "
     ]
    },
    {
     "data": {
      "application/vnd.jupyter.widget-view+json": {
       "model_id": "be8844fb5c354463a7d8dced987e6ea1",
       "version_major": 2,
       "version_minor": 0
      },
      "text/plain": [
       "  0%|          | 0/9568 [00:00<?, ?it/s]"
      ]
     },
     "metadata": {},
     "output_type": "display_data"
    },
    {
     "name": "stdout",
     "output_type": "stream",
     "text": [
      " "
     ]
    },
    {
     "data": {
      "application/vnd.jupyter.widget-view+json": {
       "model_id": "d6ce12592d4e4eae95ab1a34082bb4d7",
       "version_major": 2,
       "version_minor": 0
      },
      "text/plain": [
       "  0%|          | 0/9568 [00:00<?, ?it/s]"
      ]
     },
     "metadata": {},
     "output_type": "display_data"
    },
    {
     "name": "stdout",
     "output_type": "stream",
     "text": [
      " "
     ]
    },
    {
     "data": {
      "application/vnd.jupyter.widget-view+json": {
       "model_id": "d037ddd35c1b4ca4af161fe0fdb47741",
       "version_major": 2,
       "version_minor": 0
      },
      "text/plain": [
       "  0%|          | 0/9568 [00:00<?, ?it/s]"
      ]
     },
     "metadata": {},
     "output_type": "display_data"
    },
    {
     "name": "stdout",
     "output_type": "stream",
     "text": [
      " "
     ]
    },
    {
     "data": {
      "application/vnd.jupyter.widget-view+json": {
       "model_id": "fc017bf5082f4272a720a843e65f3c73",
       "version_major": 2,
       "version_minor": 0
      },
      "text/plain": [
       "  0%|          | 0/9568 [00:00<?, ?it/s]"
      ]
     },
     "metadata": {},
     "output_type": "display_data"
    },
    {
     "data": {
      "application/vnd.jupyter.widget-view+json": {
       "model_id": "4c15bac2b42242ae989aea55c9559e89",
       "version_major": 2,
       "version_minor": 0
      },
      "text/plain": [
       "  0%|          | 0/9568 [00:00<?, ?it/s]"
      ]
     },
     "metadata": {},
     "output_type": "display_data"
    },
    {
     "data": {
      "application/vnd.jupyter.widget-view+json": {
       "model_id": "b61269fd1e0b41b1a57ebe61a82013d2",
       "version_major": 2,
       "version_minor": 0
      },
      "text/plain": [
       "  0%|          | 0/9568 [00:00<?, ?it/s]"
      ]
     },
     "metadata": {},
     "output_type": "display_data"
    },
    {
     "data": {
      "application/vnd.jupyter.widget-view+json": {
       "model_id": "abe0dd0663824ca6be78f70f4fa1fb53",
       "version_major": 2,
       "version_minor": 0
      },
      "text/plain": [
       "  0%|          | 0/9568 [00:00<?, ?it/s]"
      ]
     },
     "metadata": {},
     "output_type": "display_data"
    },
    {
     "data": {
      "application/vnd.jupyter.widget-view+json": {
       "model_id": "da5b6896282340bc95375b37a085971a",
       "version_major": 2,
       "version_minor": 0
      },
      "text/plain": [
       "  0%|          | 0/9564 [00:00<?, ?it/s]"
      ]
     },
     "metadata": {},
     "output_type": "display_data"
    },
    {
     "data": {
      "text/plain": [
       "[None, None, None, None, None, None, None, None]"
      ]
     },
     "execution_count": 4,
     "metadata": {},
     "output_type": "execute_result"
    }
   ],
   "source": [
    "def func(dfs, pid):\n",
    "\n",
    "    # This line is the strange hack\n",
    "    print(' ', end='', flush=True)\n",
    "\n",
    "    df = dfs[0]\n",
    "    for df_i in tqdm(df.iterrows(), total=len(df), position=pid):\n",
    "        df_row = df_i[1]\n",
    "\n",
    "        it = InfoTable()\n",
    "\n",
    "        if df_row['stay_id'] in custom_icustays_list:\n",
    "\n",
    "            # it.data = load_info_dsv(STRUCTURED_EXPORT_DIR, df_row['stay_id'])\n",
    "            assert not os.path.exists(\n",
    "                os.path.join(STRUCTURED_EXPORT_DIR,\n",
    "                             'info_'+str(df_row['stay_id'])+'.dsv'))\n",
    "\n",
    "            # 1. icustay_detail\n",
    "            c = 0\n",
    "            for i, j in zip(uid_info, df_row):\n",
    "                c = i\n",
    "                it.append(uid=i, value=j)\n",
    "\n",
    "            # 2. icustay\n",
    "            c += 1\n",
    "            j = icustays_df.loc[icustays_df['stay_id'] ==\n",
    "                                df_row['stay_id']]['first_careunit'].item()\n",
    "            it.append(uid=c, value=j)\n",
    "\n",
    "            c += 1\n",
    "            j = icustays_df.loc[icustays_df['stay_id'] ==\n",
    "                                df_row['stay_id']]['last_careunit'].item()\n",
    "            it.append(uid=c, value=j)\n",
    "\n",
    "            # 3. charlson - Calculated\n",
    "            for i in charlson_df.columns.tolist()[2:]:\n",
    "                c += 1\n",
    "                j = charlson_df.loc[charlson_df['hadm_id']\n",
    "                                    == int(it.data['value'][1])][i].item()\n",
    "                it.append(uid=c, value=j)\n",
    "\n",
    "            # 4. diagnoses_icd\n",
    "            c += 1\n",
    "            cond = (diag_icd_df['subject_id'] == uid_info[0]) & \\\n",
    "                (diag_icd_df['hadm_id'] == uid_info[1])\n",
    "            icd_df = diag_icd_df.loc[cond][[\n",
    "                'seq_num', 'icd_code', 'icd_version']]\n",
    "            icd_df = icd_df.sort_values('seq_num')\n",
    "            j = None\n",
    "            for i in icd_df.iterrows():\n",
    "                icd_version = i[1]['icd_version']\n",
    "                icd_code = i[1]['icd_code'].replace(' ', '')\n",
    "                if icd_version == 9:\n",
    "                    if icd_code[0] == 'E':\n",
    "                        icd_code = icd_code[:4] + '.' + icd_code[4:]\n",
    "                    else:\n",
    "                        icd_code = icd_code[:3] + '.' + icd_code[3:]\n",
    "                elif icd_version == 10:\n",
    "                    icd_code = icd_code[:3] + '.' + icd_code[3:]\n",
    "                else:\n",
    "                    raise ValueError(\"Unknown ICD code\")\n",
    "                j = j + ',' if j is not None else ''\n",
    "                j = f\"{j}{icd_version:02d}-{icd_code}\"\n",
    "            it.append(uid=c, value=j)\n",
    "\n",
    "            # 5. creatinine_baseline - Calculated\n",
    "            for i in cr_base_df.columns.tolist()[3:]:\n",
    "                c += 1\n",
    "                j = cr_base_df.loc[cr_base_df['hadm_id']\n",
    "                                   == int(it.data['value'][1])][i].item()\n",
    "                it.append(uid=c, value=j)\n",
    "\n",
    "            save_dsv(\n",
    "                os.path.join(STRUCTURED_EXPORT_DIR,\n",
    "                             'info_'+str(df_row['stay_id'])+'.dsv'),\n",
    "                pd.DataFrame(it.data))\n",
    "\n",
    "\n",
    "with open(\"../../../\" + TMP_CUSTOM_LIST, 'r') as f:\n",
    "    custom_icustays_list = json.load(f)\n",
    "\n",
    "with open(\"../../../\" + TMP_CUSTOM_DICT, 'r') as f:\n",
    "    custom_icustays_dict = json.load(f)\n",
    "\n",
    "dfs = split_df(df, MP_NUM_PROCESSES)\n",
    "parallel_processing(func, MP_NUM_PROCESSES, dfs)\n"
   ]
  },
  {
   "cell_type": "code",
   "execution_count": 5,
   "metadata": {},
   "outputs": [],
   "source": [
    "del df, charlson_df, diag_icd_df, cr_base_df\n"
   ]
  },
  {
   "cell_type": "code",
   "execution_count": null,
   "metadata": {},
   "outputs": [],
   "source": []
  }
 ],
 "metadata": {
  "interpreter": {
   "hash": "949777d72b0d2535278d3dc13498b2535136f6dfe0678499012e853ee9abcab1"
  },
  "kernelspec": {
   "display_name": "Python 3.8.10 64-bit",
   "name": "python3"
  },
  "language_info": {
   "codemirror_mode": {
    "name": "ipython",
    "version": 3
   },
   "file_extension": ".py",
   "mimetype": "text/x-python",
   "name": "python",
   "nbconvert_exporter": "python",
   "pygments_lexer": "ipython3",
   "version": "3.8.10"
  },
  "orig_nbformat": 4
 },
 "nbformat": 4,
 "nbformat_minor": 2
}
